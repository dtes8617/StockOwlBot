{
 "cells": [
  {
   "cell_type": "markdown",
   "metadata": {},
   "source": [
    "Telegram 初步教學"
   ]
  },
  {
   "cell_type": "code",
   "execution_count": 1,
   "metadata": {},
   "outputs": [],
   "source": [
    "import telegram"
   ]
  },
  {
   "cell_type": "code",
   "execution_count": 40,
   "metadata": {
    "scrolled": true
   },
   "outputs": [],
   "source": [
    "from telegram.ext import Updater\n",
    "updater = Updater(token='1163380362:AAGcUTfWbR1c1K9wNxewcKdxt4didU5nPOs', use_context=True)"
   ]
  },
  {
   "cell_type": "code",
   "execution_count": 41,
   "metadata": {},
   "outputs": [],
   "source": [
    "dispatcher = updater.dispatcher"
   ]
  },
  {
   "cell_type": "code",
   "execution_count": 4,
   "metadata": {},
   "outputs": [],
   "source": [
    "import logging\n",
    "logging.basicConfig(format='%(asctime)s - %(name)s - %(levelname)s - %(message)s',\n",
    "                     level=logging.INFO)"
   ]
  },
  {
   "cell_type": "markdown",
   "metadata": {},
   "source": [
    "剛加入機器人，或是輸入 /start 會出現的訊息"
   ]
  },
  {
   "cell_type": "markdown",
   "metadata": {},
   "source": [
    "telegram.ext 包含了許多不同的 Handler，可以透過這些物件來因應不同狀況與使用者互動。"
   ]
  },
  {
   "cell_type": "code",
   "execution_count": 42,
   "metadata": {},
   "outputs": [],
   "source": [
    "def start(update, context):\n",
    "    context.bot.send_message(chat_id=update.effective_chat.id, text=\"I'm a bot, please talk to me!\")\n",
    "    print(update.effective_chat.id)"
   ]
  },
  {
   "cell_type": "code",
   "execution_count": 43,
   "metadata": {},
   "outputs": [],
   "source": [
    "from telegram.ext import CommandHandler\n",
    "start_handler = CommandHandler('start', start)\n",
    "dispatcher.add_handler(start_handler)"
   ]
  },
  {
   "cell_type": "code",
   "execution_count": 44,
   "metadata": {},
   "outputs": [
    {
     "data": {
      "text/plain": [
       "<queue.Queue at 0x28f4323dc88>"
      ]
     },
     "execution_count": 44,
     "metadata": {},
     "output_type": "execute_result"
    }
   ],
   "source": [
    "updater.start_polling()"
   ]
  },
  {
   "cell_type": "markdown",
   "metadata": {},
   "source": [
    "輸入文字後會重複用戶的話"
   ]
  },
  {
   "cell_type": "markdown",
   "metadata": {},
   "source": [
    "在使用 MessageHandler 時，需要設定機器人在接收什麼訊息時會做出反應，這時就是使用 Filters 的時機。Filters 是一個用來判斷符合條件與否的物件，回傳 True 或 False。可以透過 bit-wise 運算元來交叉使用(&: and, |: or, ~: not)。常使用的一些判斷元素基本上都已經寫好了，例如 Filters.video, Filters.photo, Filters.document, Filters.forwarded。"
   ]
  },
  {
   "cell_type": "code",
   "execution_count": 2,
   "metadata": {},
   "outputs": [
    {
     "ename": "NameError",
     "evalue": "name 'callback' is not defined",
     "output_type": "error",
     "traceback": [
      "\u001b[1;31m---------------------------------------------------------------------------\u001b[0m",
      "\u001b[1;31mNameError\u001b[0m                                 Traceback (most recent call last)",
      "\u001b[1;32m<ipython-input-2-ce6c5fecd088>\u001b[0m in \u001b[0;36m<module>\u001b[1;34m\u001b[0m\n\u001b[0;32m      2\u001b[0m \u001b[1;33m\u001b[0m\u001b[0m\n\u001b[0;32m      3\u001b[0m handler = MessageHandler(Filters.video | Filters.photo | Filters.document, \n\u001b[1;32m----> 4\u001b[1;33m                          callback)\n\u001b[0m\u001b[0;32m      5\u001b[0m \u001b[1;33m\u001b[0m\u001b[0m\n\u001b[0;32m      6\u001b[0m \u001b[0mhandler\u001b[0m \u001b[1;33m=\u001b[0m \u001b[0mMessageHandler\u001b[0m\u001b[1;33m(\u001b[0m\u001b[0mFilters\u001b[0m\u001b[1;33m.\u001b[0m\u001b[0mforwarded\u001b[0m \u001b[1;33m&\u001b[0m \u001b[0mFilters\u001b[0m\u001b[1;33m.\u001b[0m\u001b[0mphoto\u001b[0m\u001b[1;33m,\u001b[0m \u001b[0mcallback\u001b[0m\u001b[1;33m)\u001b[0m\u001b[1;33m\u001b[0m\u001b[1;33m\u001b[0m\u001b[0m\n",
      "\u001b[1;31mNameError\u001b[0m: name 'callback' is not defined"
     ]
    }
   ],
   "source": [
    "from telegram.ext import MessageHandler, Filters\n",
    "\n",
    "handler = MessageHandler(Filters.video | Filters.photo | Filters.document, \n",
    "                         callback)\n",
    "\n",
    "handler = MessageHandler(Filters.forwarded & Filters.photo, callback)"
   ]
  },
  {
   "cell_type": "markdown",
   "metadata": {},
   "source": [
    "想要確定文字中是否包含超連結等也都可以做到。"
   ]
  },
  {
   "cell_type": "code",
   "execution_count": null,
   "metadata": {},
   "outputs": [],
   "source": [
    "from telegram import MessageEntity\n",
    "\n",
    "handler = MessageHandler(\n",
    "    Filters.text & (Filters.entity(MessageEntity.URL) |\n",
    "                    Filters.entity(MessageEntity.TEXT_LINK)),\n",
    "    callback)"
   ]
  },
  {
   "cell_type": "markdown",
   "metadata": {},
   "source": [
    "最後，如果這些 Filters 不符合需求，也可以自己寫一個。"
   ]
  },
  {
   "cell_type": "code",
   "execution_count": null,
   "metadata": {},
   "outputs": [],
   "source": [
    "from telegram.ext import BaseFilter\n",
    "\n",
    "class FilterAwesome(BaseFilter):\n",
    "    def filter(self, message):\n",
    "        return 'python-telegram-bot is awesome' in message.text\n",
    "\n",
    "# Remember to initialize the class.\n",
    "filter_awesome = FilterAwesome()\n",
    "\n",
    "awesome_handler = MessageHandler(filter_awesome, callback)"
   ]
  },
  {
   "cell_type": "code",
   "execution_count": 22,
   "metadata": {},
   "outputs": [],
   "source": [
    "def echo(update, context):\n",
    "    context.bot.send_message(chat_id=update.effective_chat.id, text=update.message.text)\n",
    "\n",
    "from telegram.ext import MessageHandler, Filters\n",
    "echo_handler = MessageHandler(Filters.text & (~Filters.command), echo)\n",
    "dispatcher.add_handler(echo_handler)"
   ]
  },
  {
   "cell_type": "markdown",
   "metadata": {},
   "source": [
    "將輸入的文字大寫"
   ]
  },
  {
   "cell_type": "markdown",
   "metadata": {},
   "source": [
    "context.args 是擷取 telegram 指令後的參數，會用空格作為分隔字元。"
   ]
  },
  {
   "cell_type": "code",
   "execution_count": 11,
   "metadata": {},
   "outputs": [],
   "source": [
    "def caps(update, context):\n",
    "    text_caps = ' '.join(context.args).upper()\n",
    "    context.bot.send_message(chat_id=update.effective_chat.id, text=text_caps)\n",
    "\n",
    "caps_handler = CommandHandler('caps', caps)\n",
    "dispatcher.add_handler(caps_handler)"
   ]
  },
  {
   "cell_type": "markdown",
   "metadata": {},
   "source": [
    "引入 inline 功能，只要在對話框中輸入 @Robot名稱 就會出現互動式介面"
   ]
  },
  {
   "cell_type": "markdown",
   "metadata": {},
   "source": [
    "用 context.bot.answer_inline_query 來傳送 inline query 的結果，參數要是 list 包含各樣的 InlineQueryResult。"
   ]
  },
  {
   "cell_type": "code",
   "execution_count": 12,
   "metadata": {},
   "outputs": [],
   "source": [
    "from telegram import InlineQueryResultArticle, InputTextMessageContent\n",
    "def inline_caps(update, context):\n",
    "    query = update.inline_query.query\n",
    "    if not query:\n",
    "        return\n",
    "    results = list()\n",
    "    results.append(\n",
    "        InlineQueryResultArticle(\n",
    "            id=query.upper(),\n",
    "            title='Caps',\n",
    "            input_message_content=InputTextMessageContent(query.upper())\n",
    "        )\n",
    "    )\n",
    "    context.bot.answer_inline_query(update.inline_query.id, results)\n",
    "\n",
    "from telegram.ext import InlineQueryHandler\n",
    "inline_caps_handler = InlineQueryHandler(inline_caps)\n",
    "dispatcher.add_handler(inline_caps_handler)"
   ]
  },
  {
   "cell_type": "markdown",
   "metadata": {},
   "source": [
    "當輸入未知指令時會出現的訊息"
   ]
  },
  {
   "cell_type": "code",
   "execution_count": 13,
   "metadata": {},
   "outputs": [],
   "source": [
    "def unknown(update, context):\n",
    "    context.bot.send_message(chat_id=update.effective_chat.id, text=\"Sorry, I didn't understand that command.\")\n",
    "\n",
    "unknown_handler = MessageHandler(Filters.command, unknown)\n",
    "dispatcher.add_handler(unknown_handler)"
   ]
  },
  {
   "cell_type": "markdown",
   "metadata": {},
   "source": [
    "結束並關閉 Robot 功能，包含 Telegram 上"
   ]
  },
  {
   "cell_type": "code",
   "execution_count": 39,
   "metadata": {},
   "outputs": [],
   "source": [
    "updater.stop()"
   ]
  },
  {
   "cell_type": "markdown",
   "metadata": {},
   "source": [
    "在執行強制停止或是接收停止指令後才執行 stop"
   ]
  },
  {
   "cell_type": "code",
   "execution_count": null,
   "metadata": {},
   "outputs": [
    {
     "name": "stderr",
     "output_type": "stream",
     "text": [
      "2020-07-07 17:38:27,433 - telegram.ext.updater - INFO - Received signal 2 (SIGINT), stopping...\n"
     ]
    }
   ],
   "source": [
    "updater.idle()"
   ]
  },
  {
   "cell_type": "markdown",
   "metadata": {},
   "source": [
    "處理錯誤訊息可透過以下方式，其餘的則可以用 logging 替代。"
   ]
  },
  {
   "cell_type": "code",
   "execution_count": null,
   "metadata": {},
   "outputs": [],
   "source": [
    "from telegram.error import (TelegramError, Unauthorized, BadRequest, \n",
    "                            TimedOut, ChatMigrated, NetworkError)\n",
    "\n",
    "def error_callback(update, context):\n",
    "    try:\n",
    "        raise context.error\n",
    "    except Unauthorized:\n",
    "        # remove update.message.chat_id from conversation list\n",
    "    except BadRequest:\n",
    "        # handle malformed requests - read more below!\n",
    "    except TimedOut:\n",
    "        # handle slow connection problems\n",
    "    except NetworkError:\n",
    "        # handle other connection problems\n",
    "    except ChatMigrated as e:\n",
    "        # the chat_id of a group has changed, use e.new_chat_id instead\n",
    "    except TelegramError:\n",
    "        # handle all other telegram related errors\n",
    "\n",
    "dispatcher.add_error_handler(error_callback)"
   ]
  },
  {
   "cell_type": "markdown",
   "metadata": {},
   "source": [
    "針對一次性、週期性的主動任務，可以用 JobQueue 來做。"
   ]
  },
  {
   "cell_type": "code",
   "execution_count": 8,
   "metadata": {},
   "outputs": [],
   "source": [
    "import telegram.ext\n",
    "from telegram.ext import Updater\n",
    "\n",
    "# updater = Updater('TOKEN', use_context=True)\n",
    "j = updater.job_queue"
   ]
  },
  {
   "cell_type": "markdown",
   "metadata": {},
   "source": [
    "建立 JobQueue 後，可以用的功能有: job_queue.run_once, job_queue.run_repeating, job_queue.run_daily and job_queue.run_monthly。"
   ]
  },
  {
   "cell_type": "code",
   "execution_count": 14,
   "metadata": {},
   "outputs": [],
   "source": [
    "import time\n",
    "\n",
    "def wait_minute(context: telegram.ext.CallbackContext):\n",
    "    context.bot.send_message(chat_id='1257751303',\n",
    "                             text='開始倒數計時 1 分鐘！')\n",
    "    time.sleep(60)\n",
    "    context.bot.send_message(chat_id='1257751303',\n",
    "                             text='1 分鐘到啦！')\n",
    "    \n",
    "countdown_minute = j.run_once(wait_minute, when=0)"
   ]
  },
  {
   "cell_type": "code",
   "execution_count": 45,
   "metadata": {},
   "outputs": [],
   "source": [
    "registed_users = []"
   ]
  },
  {
   "cell_type": "code",
   "execution_count": 51,
   "metadata": {},
   "outputs": [],
   "source": [
    "dispatcher.remove_handler(notify_handler, 0)"
   ]
  },
  {
   "cell_type": "code",
   "execution_count": 52,
   "metadata": {},
   "outputs": [],
   "source": [
    "def regist_notify(update, context):\n",
    "    user_id = update.effective_chat.id\n",
    "    registed_users.append(user_id)\n",
    "    context.bot.send_message(chat_id=user_id,\n",
    "                             text='恭喜你，{}，註冊成功囉！'.format(update.effective_chat.username))\n",
    "\n",
    "notify_handler = CommandHandler('regist', regist_notify)\n",
    "dispatcher.add_handler(notify_handler)"
   ]
  },
  {
   "cell_type": "code",
   "execution_count": 29,
   "metadata": {},
   "outputs": [
    {
     "name": "stderr",
     "output_type": "stream",
     "text": [
      "2020-07-21 18:57:57,311 - JobQueue - ERROR - An uncaught error was raised while executing job callback_minute\n",
      "Traceback (most recent call last):\n",
      "  File \"D:\\ProgramData\\Anaconda3\\lib\\site-packages\\telegram\\ext\\jobqueue.py\", line 418, in tick\n",
      "    job.run(self._dispatcher)\n",
      "  File \"D:\\ProgramData\\Anaconda3\\lib\\site-packages\\telegram\\ext\\jobqueue.py\", line 574, in run\n",
      "    self.callback(CallbackContext.from_job(self, dispatcher))\n",
      "  File \"<ipython-input-29-99e30646b3a1>\", line 3, in callback_minute\n",
      "    text='One message every minute')\n",
      "  File \"<D:\\ProgramData\\Anaconda3\\lib\\site-packages\\decorator.py:decorator-gen-128>\", line 2, in send_message\n",
      "  File \"D:\\ProgramData\\Anaconda3\\lib\\site-packages\\telegram\\bot.py\", line 67, in decorator\n",
      "    result = func(*args, **kwargs)\n",
      "  File \"D:\\ProgramData\\Anaconda3\\lib\\site-packages\\telegram\\bot.py\", line 348, in send_message\n",
      "    timeout=timeout, **kwargs)\n",
      "  File \"D:\\ProgramData\\Anaconda3\\lib\\site-packages\\telegram\\bot.py\", line 175, in _message\n",
      "    result = self._request.post(url, data, timeout=timeout)\n",
      "  File \"D:\\ProgramData\\Anaconda3\\lib\\site-packages\\telegram\\utils\\request.py\", line 333, in post\n",
      "    **urlopen_kwargs)\n",
      "  File \"D:\\ProgramData\\Anaconda3\\lib\\site-packages\\telegram\\utils\\request.py\", line 244, in _request_wrapper\n",
      "    raise BadRequest(message)\n",
      "telegram.error.BadRequest: Chat not found\n",
      "2020-07-21 18:57:57,962 - JobQueue - ERROR - An uncaught error was raised while executing job callback_minute\n",
      "Traceback (most recent call last):\n",
      "  File \"D:\\ProgramData\\Anaconda3\\lib\\site-packages\\telegram\\ext\\jobqueue.py\", line 418, in tick\n",
      "    job.run(self._dispatcher)\n",
      "  File \"D:\\ProgramData\\Anaconda3\\lib\\site-packages\\telegram\\ext\\jobqueue.py\", line 574, in run\n",
      "    self.callback(CallbackContext.from_job(self, dispatcher))\n",
      "  File \"<ipython-input-24-59c11ef2cabd>\", line 3, in callback_minute\n",
      "    text='One message every minute')\n",
      "  File \"<D:\\ProgramData\\Anaconda3\\lib\\site-packages\\decorator.py:decorator-gen-128>\", line 2, in send_message\n",
      "  File \"D:\\ProgramData\\Anaconda3\\lib\\site-packages\\telegram\\bot.py\", line 67, in decorator\n",
      "    result = func(*args, **kwargs)\n",
      "  File \"D:\\ProgramData\\Anaconda3\\lib\\site-packages\\telegram\\bot.py\", line 348, in send_message\n",
      "    timeout=timeout, **kwargs)\n",
      "  File \"D:\\ProgramData\\Anaconda3\\lib\\site-packages\\telegram\\bot.py\", line 175, in _message\n",
      "    result = self._request.post(url, data, timeout=timeout)\n",
      "  File \"D:\\ProgramData\\Anaconda3\\lib\\site-packages\\telegram\\utils\\request.py\", line 333, in post\n",
      "    **urlopen_kwargs)\n",
      "  File \"D:\\ProgramData\\Anaconda3\\lib\\site-packages\\telegram\\utils\\request.py\", line 244, in _request_wrapper\n",
      "    raise BadRequest(message)\n",
      "telegram.error.BadRequest: Chat not found\n",
      "2020-07-21 18:58:28,395 - JobQueue - ERROR - An uncaught error was raised while executing job callback_minute\n",
      "Traceback (most recent call last):\n",
      "  File \"D:\\ProgramData\\Anaconda3\\lib\\site-packages\\telegram\\ext\\jobqueue.py\", line 418, in tick\n",
      "    job.run(self._dispatcher)\n",
      "  File \"D:\\ProgramData\\Anaconda3\\lib\\site-packages\\telegram\\ext\\jobqueue.py\", line 574, in run\n",
      "    self.callback(CallbackContext.from_job(self, dispatcher))\n",
      "  File \"<ipython-input-27-987a4f6418da>\", line 3, in callback_minute\n",
      "    text='One message every minute')\n",
      "  File \"<D:\\ProgramData\\Anaconda3\\lib\\site-packages\\decorator.py:decorator-gen-128>\", line 2, in send_message\n",
      "  File \"D:\\ProgramData\\Anaconda3\\lib\\site-packages\\telegram\\bot.py\", line 67, in decorator\n",
      "    result = func(*args, **kwargs)\n",
      "  File \"D:\\ProgramData\\Anaconda3\\lib\\site-packages\\telegram\\bot.py\", line 348, in send_message\n",
      "    timeout=timeout, **kwargs)\n",
      "  File \"D:\\ProgramData\\Anaconda3\\lib\\site-packages\\telegram\\bot.py\", line 175, in _message\n",
      "    result = self._request.post(url, data, timeout=timeout)\n",
      "  File \"D:\\ProgramData\\Anaconda3\\lib\\site-packages\\telegram\\utils\\request.py\", line 333, in post\n",
      "    **urlopen_kwargs)\n",
      "  File \"D:\\ProgramData\\Anaconda3\\lib\\site-packages\\telegram\\utils\\request.py\", line 244, in _request_wrapper\n",
      "    raise BadRequest(message)\n",
      "telegram.error.BadRequest: Chat not found\n",
      "2020-07-21 18:58:39,126 - JobQueue - ERROR - An uncaught error was raised while executing job callback_minute\n",
      "Traceback (most recent call last):\n",
      "  File \"D:\\ProgramData\\Anaconda3\\lib\\site-packages\\telegram\\ext\\jobqueue.py\", line 418, in tick\n",
      "    job.run(self._dispatcher)\n",
      "  File \"D:\\ProgramData\\Anaconda3\\lib\\site-packages\\telegram\\ext\\jobqueue.py\", line 574, in run\n",
      "    self.callback(CallbackContext.from_job(self, dispatcher))\n",
      "  File \"<ipython-input-28-dca51f95251c>\", line 3, in callback_minute\n",
      "    text='One message every minute')\n",
      "  File \"<D:\\ProgramData\\Anaconda3\\lib\\site-packages\\decorator.py:decorator-gen-128>\", line 2, in send_message\n",
      "  File \"D:\\ProgramData\\Anaconda3\\lib\\site-packages\\telegram\\bot.py\", line 67, in decorator\n",
      "    result = func(*args, **kwargs)\n",
      "  File \"D:\\ProgramData\\Anaconda3\\lib\\site-packages\\telegram\\bot.py\", line 348, in send_message\n",
      "    timeout=timeout, **kwargs)\n",
      "  File \"D:\\ProgramData\\Anaconda3\\lib\\site-packages\\telegram\\bot.py\", line 175, in _message\n",
      "    result = self._request.post(url, data, timeout=timeout)\n",
      "  File \"D:\\ProgramData\\Anaconda3\\lib\\site-packages\\telegram\\utils\\request.py\", line 333, in post\n",
      "    **urlopen_kwargs)\n",
      "  File \"D:\\ProgramData\\Anaconda3\\lib\\site-packages\\telegram\\utils\\request.py\", line 244, in _request_wrapper\n",
      "    raise BadRequest(message)\n",
      "telegram.error.BadRequest: Chat not found\n",
      "2020-07-21 18:58:46,042 - JobQueue - ERROR - An uncaught error was raised while executing job callback_minute\n",
      "Traceback (most recent call last):\n",
      "  File \"D:\\ProgramData\\Anaconda3\\lib\\site-packages\\telegram\\ext\\jobqueue.py\", line 418, in tick\n",
      "    job.run(self._dispatcher)\n",
      "  File \"D:\\ProgramData\\Anaconda3\\lib\\site-packages\\telegram\\ext\\jobqueue.py\", line 574, in run\n",
      "    self.callback(CallbackContext.from_job(self, dispatcher))\n",
      "  File \"<ipython-input-23-dca51f95251c>\", line 3, in callback_minute\n",
      "    text='One message every minute')\n",
      "  File \"<D:\\ProgramData\\Anaconda3\\lib\\site-packages\\decorator.py:decorator-gen-128>\", line 2, in send_message\n",
      "  File \"D:\\ProgramData\\Anaconda3\\lib\\site-packages\\telegram\\bot.py\", line 67, in decorator\n",
      "    result = func(*args, **kwargs)\n",
      "  File \"D:\\ProgramData\\Anaconda3\\lib\\site-packages\\telegram\\bot.py\", line 348, in send_message\n",
      "    timeout=timeout, **kwargs)\n",
      "  File \"D:\\ProgramData\\Anaconda3\\lib\\site-packages\\telegram\\bot.py\", line 175, in _message\n",
      "    result = self._request.post(url, data, timeout=timeout)\n",
      "  File \"D:\\ProgramData\\Anaconda3\\lib\\site-packages\\telegram\\utils\\request.py\", line 333, in post\n",
      "    **urlopen_kwargs)\n",
      "  File \"D:\\ProgramData\\Anaconda3\\lib\\site-packages\\telegram\\utils\\request.py\", line 244, in _request_wrapper\n",
      "    raise BadRequest(message)\n",
      "telegram.error.BadRequest: Chat not found\n",
      "2020-07-21 18:58:57,313 - JobQueue - ERROR - An uncaught error was raised while executing job callback_minute\n",
      "Traceback (most recent call last):\n",
      "  File \"D:\\ProgramData\\Anaconda3\\lib\\site-packages\\telegram\\ext\\jobqueue.py\", line 418, in tick\n",
      "    job.run(self._dispatcher)\n",
      "  File \"D:\\ProgramData\\Anaconda3\\lib\\site-packages\\telegram\\ext\\jobqueue.py\", line 574, in run\n",
      "    self.callback(CallbackContext.from_job(self, dispatcher))\n",
      "  File \"<ipython-input-29-99e30646b3a1>\", line 3, in callback_minute\n",
      "    text='One message every minute')\n",
      "  File \"<D:\\ProgramData\\Anaconda3\\lib\\site-packages\\decorator.py:decorator-gen-128>\", line 2, in send_message\n",
      "  File \"D:\\ProgramData\\Anaconda3\\lib\\site-packages\\telegram\\bot.py\", line 67, in decorator\n",
      "    result = func(*args, **kwargs)\n",
      "  File \"D:\\ProgramData\\Anaconda3\\lib\\site-packages\\telegram\\bot.py\", line 348, in send_message\n",
      "    timeout=timeout, **kwargs)\n",
      "  File \"D:\\ProgramData\\Anaconda3\\lib\\site-packages\\telegram\\bot.py\", line 175, in _message\n",
      "    result = self._request.post(url, data, timeout=timeout)\n",
      "  File \"D:\\ProgramData\\Anaconda3\\lib\\site-packages\\telegram\\utils\\request.py\", line 333, in post\n",
      "    **urlopen_kwargs)\n",
      "  File \"D:\\ProgramData\\Anaconda3\\lib\\site-packages\\telegram\\utils\\request.py\", line 244, in _request_wrapper\n",
      "    raise BadRequest(message)\n",
      "telegram.error.BadRequest: Chat not found\n",
      "2020-07-21 18:58:57,974 - JobQueue - ERROR - An uncaught error was raised while executing job callback_minute\n",
      "Traceback (most recent call last):\n",
      "  File \"D:\\ProgramData\\Anaconda3\\lib\\site-packages\\telegram\\ext\\jobqueue.py\", line 418, in tick\n",
      "    job.run(self._dispatcher)\n",
      "  File \"D:\\ProgramData\\Anaconda3\\lib\\site-packages\\telegram\\ext\\jobqueue.py\", line 574, in run\n",
      "    self.callback(CallbackContext.from_job(self, dispatcher))\n",
      "  File \"<ipython-input-24-59c11ef2cabd>\", line 3, in callback_minute\n",
      "    text='One message every minute')\n",
      "  File \"<D:\\ProgramData\\Anaconda3\\lib\\site-packages\\decorator.py:decorator-gen-128>\", line 2, in send_message\n",
      "  File \"D:\\ProgramData\\Anaconda3\\lib\\site-packages\\telegram\\bot.py\", line 67, in decorator\n",
      "    result = func(*args, **kwargs)\n",
      "  File \"D:\\ProgramData\\Anaconda3\\lib\\site-packages\\telegram\\bot.py\", line 348, in send_message\n",
      "    timeout=timeout, **kwargs)\n",
      "  File \"D:\\ProgramData\\Anaconda3\\lib\\site-packages\\telegram\\bot.py\", line 175, in _message\n",
      "    result = self._request.post(url, data, timeout=timeout)\n",
      "  File \"D:\\ProgramData\\Anaconda3\\lib\\site-packages\\telegram\\utils\\request.py\", line 333, in post\n",
      "    **urlopen_kwargs)\n",
      "  File \"D:\\ProgramData\\Anaconda3\\lib\\site-packages\\telegram\\utils\\request.py\", line 244, in _request_wrapper\n",
      "    raise BadRequest(message)\n",
      "telegram.error.BadRequest: Chat not found\n",
      "2020-07-21 18:59:28,387 - JobQueue - ERROR - An uncaught error was raised while executing job callback_minute\n",
      "Traceback (most recent call last):\n",
      "  File \"D:\\ProgramData\\Anaconda3\\lib\\site-packages\\telegram\\ext\\jobqueue.py\", line 418, in tick\n",
      "    job.run(self._dispatcher)\n",
      "  File \"D:\\ProgramData\\Anaconda3\\lib\\site-packages\\telegram\\ext\\jobqueue.py\", line 574, in run\n",
      "    self.callback(CallbackContext.from_job(self, dispatcher))\n",
      "  File \"<ipython-input-27-987a4f6418da>\", line 3, in callback_minute\n",
      "    text='One message every minute')\n",
      "  File \"<D:\\ProgramData\\Anaconda3\\lib\\site-packages\\decorator.py:decorator-gen-128>\", line 2, in send_message\n",
      "  File \"D:\\ProgramData\\Anaconda3\\lib\\site-packages\\telegram\\bot.py\", line 67, in decorator\n",
      "    result = func(*args, **kwargs)\n",
      "  File \"D:\\ProgramData\\Anaconda3\\lib\\site-packages\\telegram\\bot.py\", line 348, in send_message\n",
      "    timeout=timeout, **kwargs)\n",
      "  File \"D:\\ProgramData\\Anaconda3\\lib\\site-packages\\telegram\\bot.py\", line 175, in _message\n",
      "    result = self._request.post(url, data, timeout=timeout)\n",
      "  File \"D:\\ProgramData\\Anaconda3\\lib\\site-packages\\telegram\\utils\\request.py\", line 333, in post\n",
      "    **urlopen_kwargs)\n",
      "  File \"D:\\ProgramData\\Anaconda3\\lib\\site-packages\\telegram\\utils\\request.py\", line 244, in _request_wrapper\n",
      "    raise BadRequest(message)\n",
      "telegram.error.BadRequest: Chat not found\n",
      "2020-07-21 18:59:39,133 - JobQueue - ERROR - An uncaught error was raised while executing job callback_minute\n",
      "Traceback (most recent call last):\n",
      "  File \"D:\\ProgramData\\Anaconda3\\lib\\site-packages\\telegram\\ext\\jobqueue.py\", line 418, in tick\n",
      "    job.run(self._dispatcher)\n",
      "  File \"D:\\ProgramData\\Anaconda3\\lib\\site-packages\\telegram\\ext\\jobqueue.py\", line 574, in run\n",
      "    self.callback(CallbackContext.from_job(self, dispatcher))\n",
      "  File \"<ipython-input-28-dca51f95251c>\", line 3, in callback_minute\n",
      "    text='One message every minute')\n",
      "  File \"<D:\\ProgramData\\Anaconda3\\lib\\site-packages\\decorator.py:decorator-gen-128>\", line 2, in send_message\n",
      "  File \"D:\\ProgramData\\Anaconda3\\lib\\site-packages\\telegram\\bot.py\", line 67, in decorator\n",
      "    result = func(*args, **kwargs)\n",
      "  File \"D:\\ProgramData\\Anaconda3\\lib\\site-packages\\telegram\\bot.py\", line 348, in send_message\n",
      "    timeout=timeout, **kwargs)\n",
      "  File \"D:\\ProgramData\\Anaconda3\\lib\\site-packages\\telegram\\bot.py\", line 175, in _message\n",
      "    result = self._request.post(url, data, timeout=timeout)\n",
      "  File \"D:\\ProgramData\\Anaconda3\\lib\\site-packages\\telegram\\utils\\request.py\", line 333, in post\n",
      "    **urlopen_kwargs)\n",
      "  File \"D:\\ProgramData\\Anaconda3\\lib\\site-packages\\telegram\\utils\\request.py\", line 244, in _request_wrapper\n",
      "    raise BadRequest(message)\n",
      "telegram.error.BadRequest: Chat not found\n",
      "2020-07-21 18:59:46,053 - JobQueue - ERROR - An uncaught error was raised while executing job callback_minute\n",
      "Traceback (most recent call last):\n",
      "  File \"D:\\ProgramData\\Anaconda3\\lib\\site-packages\\telegram\\ext\\jobqueue.py\", line 418, in tick\n",
      "    job.run(self._dispatcher)\n",
      "  File \"D:\\ProgramData\\Anaconda3\\lib\\site-packages\\telegram\\ext\\jobqueue.py\", line 574, in run\n",
      "    self.callback(CallbackContext.from_job(self, dispatcher))\n",
      "  File \"<ipython-input-23-dca51f95251c>\", line 3, in callback_minute\n",
      "    text='One message every minute')\n",
      "  File \"<D:\\ProgramData\\Anaconda3\\lib\\site-packages\\decorator.py:decorator-gen-128>\", line 2, in send_message\n",
      "  File \"D:\\ProgramData\\Anaconda3\\lib\\site-packages\\telegram\\bot.py\", line 67, in decorator\n",
      "    result = func(*args, **kwargs)\n",
      "  File \"D:\\ProgramData\\Anaconda3\\lib\\site-packages\\telegram\\bot.py\", line 348, in send_message\n",
      "    timeout=timeout, **kwargs)\n",
      "  File \"D:\\ProgramData\\Anaconda3\\lib\\site-packages\\telegram\\bot.py\", line 175, in _message\n",
      "    result = self._request.post(url, data, timeout=timeout)\n",
      "  File \"D:\\ProgramData\\Anaconda3\\lib\\site-packages\\telegram\\utils\\request.py\", line 333, in post\n",
      "    **urlopen_kwargs)\n",
      "  File \"D:\\ProgramData\\Anaconda3\\lib\\site-packages\\telegram\\utils\\request.py\", line 244, in _request_wrapper\n",
      "    raise BadRequest(message)\n",
      "telegram.error.BadRequest: Chat not found\n",
      "2020-07-21 18:59:57,312 - JobQueue - ERROR - An uncaught error was raised while executing job callback_minute\n",
      "Traceback (most recent call last):\n",
      "  File \"D:\\ProgramData\\Anaconda3\\lib\\site-packages\\telegram\\ext\\jobqueue.py\", line 418, in tick\n",
      "    job.run(self._dispatcher)\n",
      "  File \"D:\\ProgramData\\Anaconda3\\lib\\site-packages\\telegram\\ext\\jobqueue.py\", line 574, in run\n",
      "    self.callback(CallbackContext.from_job(self, dispatcher))\n",
      "  File \"<ipython-input-29-99e30646b3a1>\", line 3, in callback_minute\n",
      "    text='One message every minute')\n",
      "  File \"<D:\\ProgramData\\Anaconda3\\lib\\site-packages\\decorator.py:decorator-gen-128>\", line 2, in send_message\n",
      "  File \"D:\\ProgramData\\Anaconda3\\lib\\site-packages\\telegram\\bot.py\", line 67, in decorator\n",
      "    result = func(*args, **kwargs)\n",
      "  File \"D:\\ProgramData\\Anaconda3\\lib\\site-packages\\telegram\\bot.py\", line 348, in send_message\n",
      "    timeout=timeout, **kwargs)\n",
      "  File \"D:\\ProgramData\\Anaconda3\\lib\\site-packages\\telegram\\bot.py\", line 175, in _message\n",
      "    result = self._request.post(url, data, timeout=timeout)\n",
      "  File \"D:\\ProgramData\\Anaconda3\\lib\\site-packages\\telegram\\utils\\request.py\", line 333, in post\n",
      "    **urlopen_kwargs)\n",
      "  File \"D:\\ProgramData\\Anaconda3\\lib\\site-packages\\telegram\\utils\\request.py\", line 244, in _request_wrapper\n",
      "    raise BadRequest(message)\n",
      "telegram.error.BadRequest: Chat not found\n",
      "2020-07-21 18:59:57,975 - JobQueue - ERROR - An uncaught error was raised while executing job callback_minute\n",
      "Traceback (most recent call last):\n",
      "  File \"D:\\ProgramData\\Anaconda3\\lib\\site-packages\\telegram\\ext\\jobqueue.py\", line 418, in tick\n",
      "    job.run(self._dispatcher)\n",
      "  File \"D:\\ProgramData\\Anaconda3\\lib\\site-packages\\telegram\\ext\\jobqueue.py\", line 574, in run\n",
      "    self.callback(CallbackContext.from_job(self, dispatcher))\n",
      "  File \"<ipython-input-24-59c11ef2cabd>\", line 3, in callback_minute\n",
      "    text='One message every minute')\n",
      "  File \"<D:\\ProgramData\\Anaconda3\\lib\\site-packages\\decorator.py:decorator-gen-128>\", line 2, in send_message\n",
      "  File \"D:\\ProgramData\\Anaconda3\\lib\\site-packages\\telegram\\bot.py\", line 67, in decorator\n",
      "    result = func(*args, **kwargs)\n",
      "  File \"D:\\ProgramData\\Anaconda3\\lib\\site-packages\\telegram\\bot.py\", line 348, in send_message\n",
      "    timeout=timeout, **kwargs)\n",
      "  File \"D:\\ProgramData\\Anaconda3\\lib\\site-packages\\telegram\\bot.py\", line 175, in _message\n",
      "    result = self._request.post(url, data, timeout=timeout)\n",
      "  File \"D:\\ProgramData\\Anaconda3\\lib\\site-packages\\telegram\\utils\\request.py\", line 333, in post\n",
      "    **urlopen_kwargs)\n",
      "  File \"D:\\ProgramData\\Anaconda3\\lib\\site-packages\\telegram\\utils\\request.py\", line 244, in _request_wrapper\n",
      "    raise BadRequest(message)\n",
      "telegram.error.BadRequest: Chat not found\n"
     ]
    }
   ],
   "source": [
    "def callback_minute(context: telegram.ext.CallbackContext):\n",
    "    context.bot.send_message(chat_id='@FortuneEarnerBot', \n",
    "                             text='One message every minute')\n",
    "\n",
    "job_minute = j.run_repeating(callback_minute, interval=60, first=0)"
   ]
  },
  {
   "cell_type": "code",
   "execution_count": 30,
   "metadata": {},
   "outputs": [
    {
     "name": "stderr",
     "output_type": "stream",
     "text": [
      "2020-07-21 19:00:28,382 - JobQueue - ERROR - An uncaught error was raised while executing job callback_minute\n",
      "Traceback (most recent call last):\n",
      "  File \"D:\\ProgramData\\Anaconda3\\lib\\site-packages\\telegram\\ext\\jobqueue.py\", line 418, in tick\n",
      "    job.run(self._dispatcher)\n",
      "  File \"D:\\ProgramData\\Anaconda3\\lib\\site-packages\\telegram\\ext\\jobqueue.py\", line 574, in run\n",
      "    self.callback(CallbackContext.from_job(self, dispatcher))\n",
      "  File \"<ipython-input-27-987a4f6418da>\", line 3, in callback_minute\n",
      "    text='One message every minute')\n",
      "  File \"<D:\\ProgramData\\Anaconda3\\lib\\site-packages\\decorator.py:decorator-gen-128>\", line 2, in send_message\n",
      "  File \"D:\\ProgramData\\Anaconda3\\lib\\site-packages\\telegram\\bot.py\", line 67, in decorator\n",
      "    result = func(*args, **kwargs)\n",
      "  File \"D:\\ProgramData\\Anaconda3\\lib\\site-packages\\telegram\\bot.py\", line 348, in send_message\n",
      "    timeout=timeout, **kwargs)\n",
      "  File \"D:\\ProgramData\\Anaconda3\\lib\\site-packages\\telegram\\bot.py\", line 175, in _message\n",
      "    result = self._request.post(url, data, timeout=timeout)\n",
      "  File \"D:\\ProgramData\\Anaconda3\\lib\\site-packages\\telegram\\utils\\request.py\", line 333, in post\n",
      "    **urlopen_kwargs)\n",
      "  File \"D:\\ProgramData\\Anaconda3\\lib\\site-packages\\telegram\\utils\\request.py\", line 244, in _request_wrapper\n",
      "    raise BadRequest(message)\n",
      "telegram.error.BadRequest: Chat not found\n",
      "2020-07-21 19:00:39,139 - JobQueue - ERROR - An uncaught error was raised while executing job callback_minute\n",
      "Traceback (most recent call last):\n",
      "  File \"D:\\ProgramData\\Anaconda3\\lib\\site-packages\\telegram\\ext\\jobqueue.py\", line 418, in tick\n",
      "    job.run(self._dispatcher)\n",
      "  File \"D:\\ProgramData\\Anaconda3\\lib\\site-packages\\telegram\\ext\\jobqueue.py\", line 574, in run\n",
      "    self.callback(CallbackContext.from_job(self, dispatcher))\n",
      "  File \"<ipython-input-28-dca51f95251c>\", line 3, in callback_minute\n",
      "    text='One message every minute')\n",
      "  File \"<D:\\ProgramData\\Anaconda3\\lib\\site-packages\\decorator.py:decorator-gen-128>\", line 2, in send_message\n",
      "  File \"D:\\ProgramData\\Anaconda3\\lib\\site-packages\\telegram\\bot.py\", line 67, in decorator\n",
      "    result = func(*args, **kwargs)\n",
      "  File \"D:\\ProgramData\\Anaconda3\\lib\\site-packages\\telegram\\bot.py\", line 348, in send_message\n",
      "    timeout=timeout, **kwargs)\n",
      "  File \"D:\\ProgramData\\Anaconda3\\lib\\site-packages\\telegram\\bot.py\", line 175, in _message\n",
      "    result = self._request.post(url, data, timeout=timeout)\n",
      "  File \"D:\\ProgramData\\Anaconda3\\lib\\site-packages\\telegram\\utils\\request.py\", line 333, in post\n",
      "    **urlopen_kwargs)\n",
      "  File \"D:\\ProgramData\\Anaconda3\\lib\\site-packages\\telegram\\utils\\request.py\", line 244, in _request_wrapper\n",
      "    raise BadRequest(message)\n",
      "telegram.error.BadRequest: Chat not found\n",
      "2020-07-21 19:00:46,040 - JobQueue - ERROR - An uncaught error was raised while executing job callback_minute\n",
      "Traceback (most recent call last):\n",
      "  File \"D:\\ProgramData\\Anaconda3\\lib\\site-packages\\telegram\\ext\\jobqueue.py\", line 418, in tick\n",
      "    job.run(self._dispatcher)\n",
      "  File \"D:\\ProgramData\\Anaconda3\\lib\\site-packages\\telegram\\ext\\jobqueue.py\", line 574, in run\n",
      "    self.callback(CallbackContext.from_job(self, dispatcher))\n",
      "  File \"<ipython-input-23-dca51f95251c>\", line 3, in callback_minute\n",
      "    text='One message every minute')\n",
      "  File \"<D:\\ProgramData\\Anaconda3\\lib\\site-packages\\decorator.py:decorator-gen-128>\", line 2, in send_message\n",
      "  File \"D:\\ProgramData\\Anaconda3\\lib\\site-packages\\telegram\\bot.py\", line 67, in decorator\n",
      "    result = func(*args, **kwargs)\n",
      "  File \"D:\\ProgramData\\Anaconda3\\lib\\site-packages\\telegram\\bot.py\", line 348, in send_message\n",
      "    timeout=timeout, **kwargs)\n",
      "  File \"D:\\ProgramData\\Anaconda3\\lib\\site-packages\\telegram\\bot.py\", line 175, in _message\n",
      "    result = self._request.post(url, data, timeout=timeout)\n",
      "  File \"D:\\ProgramData\\Anaconda3\\lib\\site-packages\\telegram\\utils\\request.py\", line 333, in post\n",
      "    **urlopen_kwargs)\n",
      "  File \"D:\\ProgramData\\Anaconda3\\lib\\site-packages\\telegram\\utils\\request.py\", line 244, in _request_wrapper\n",
      "    raise BadRequest(message)\n",
      "telegram.error.BadRequest: Chat not found\n",
      "2020-07-21 19:00:57,981 - JobQueue - ERROR - An uncaught error was raised while executing job callback_minute\n",
      "Traceback (most recent call last):\n",
      "  File \"D:\\ProgramData\\Anaconda3\\lib\\site-packages\\telegram\\ext\\jobqueue.py\", line 418, in tick\n",
      "    job.run(self._dispatcher)\n",
      "  File \"D:\\ProgramData\\Anaconda3\\lib\\site-packages\\telegram\\ext\\jobqueue.py\", line 574, in run\n",
      "    self.callback(CallbackContext.from_job(self, dispatcher))\n",
      "  File \"<ipython-input-24-59c11ef2cabd>\", line 3, in callback_minute\n",
      "    text='One message every minute')\n",
      "  File \"<D:\\ProgramData\\Anaconda3\\lib\\site-packages\\decorator.py:decorator-gen-128>\", line 2, in send_message\n",
      "  File \"D:\\ProgramData\\Anaconda3\\lib\\site-packages\\telegram\\bot.py\", line 67, in decorator\n",
      "    result = func(*args, **kwargs)\n",
      "  File \"D:\\ProgramData\\Anaconda3\\lib\\site-packages\\telegram\\bot.py\", line 348, in send_message\n",
      "    timeout=timeout, **kwargs)\n",
      "  File \"D:\\ProgramData\\Anaconda3\\lib\\site-packages\\telegram\\bot.py\", line 175, in _message\n",
      "    result = self._request.post(url, data, timeout=timeout)\n",
      "  File \"D:\\ProgramData\\Anaconda3\\lib\\site-packages\\telegram\\utils\\request.py\", line 333, in post\n",
      "    **urlopen_kwargs)\n",
      "  File \"D:\\ProgramData\\Anaconda3\\lib\\site-packages\\telegram\\utils\\request.py\", line 244, in _request_wrapper\n",
      "    raise BadRequest(message)\n",
      "telegram.error.BadRequest: Chat not found\n",
      "2020-07-21 19:01:28,389 - JobQueue - ERROR - An uncaught error was raised while executing job callback_minute\n",
      "Traceback (most recent call last):\n",
      "  File \"D:\\ProgramData\\Anaconda3\\lib\\site-packages\\telegram\\ext\\jobqueue.py\", line 418, in tick\n",
      "    job.run(self._dispatcher)\n",
      "  File \"D:\\ProgramData\\Anaconda3\\lib\\site-packages\\telegram\\ext\\jobqueue.py\", line 574, in run\n",
      "    self.callback(CallbackContext.from_job(self, dispatcher))\n",
      "  File \"<ipython-input-27-987a4f6418da>\", line 3, in callback_minute\n",
      "    text='One message every minute')\n",
      "  File \"<D:\\ProgramData\\Anaconda3\\lib\\site-packages\\decorator.py:decorator-gen-128>\", line 2, in send_message\n",
      "  File \"D:\\ProgramData\\Anaconda3\\lib\\site-packages\\telegram\\bot.py\", line 67, in decorator\n",
      "    result = func(*args, **kwargs)\n",
      "  File \"D:\\ProgramData\\Anaconda3\\lib\\site-packages\\telegram\\bot.py\", line 348, in send_message\n",
      "    timeout=timeout, **kwargs)\n",
      "  File \"D:\\ProgramData\\Anaconda3\\lib\\site-packages\\telegram\\bot.py\", line 175, in _message\n",
      "    result = self._request.post(url, data, timeout=timeout)\n",
      "  File \"D:\\ProgramData\\Anaconda3\\lib\\site-packages\\telegram\\utils\\request.py\", line 333, in post\n",
      "    **urlopen_kwargs)\n",
      "  File \"D:\\ProgramData\\Anaconda3\\lib\\site-packages\\telegram\\utils\\request.py\", line 244, in _request_wrapper\n",
      "    raise BadRequest(message)\n",
      "telegram.error.BadRequest: Chat not found\n"
     ]
    }
   ],
   "source": [
    "job_minute.enabled = False  # Temporarily disable this job\n",
    "job_minute.schedule_removal()  # Remove this job completely"
   ]
  },
  {
   "cell_type": "code",
   "execution_count": null,
   "metadata": {},
   "outputs": [],
   "source": []
  }
 ],
 "metadata": {
  "kernelspec": {
   "display_name": "Python 3",
   "language": "python",
   "name": "python3"
  },
  "language_info": {
   "codemirror_mode": {
    "name": "ipython",
    "version": 3
   },
   "file_extension": ".py",
   "mimetype": "text/x-python",
   "name": "python",
   "nbconvert_exporter": "python",
   "pygments_lexer": "ipython3",
   "version": "3.7.6"
  }
 },
 "nbformat": 4,
 "nbformat_minor": 4
}

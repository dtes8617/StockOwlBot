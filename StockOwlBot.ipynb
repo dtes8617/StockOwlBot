{
 "cells": [
  {
   "cell_type": "markdown",
   "metadata": {},
   "source": [
    "# Stock Owl\n",
    "\n",
    "在台灣投資美股有個最惱人的地方，就是美股開盤都在半夜。如果要時時守著盤勢，對一般人來說還是太吃不消了。為了能夠協助隨時追蹤並且在發生緊急事件時能夠告警，我們列出需要完成的部分：\n",
    "1. Telegram 機器人\n",
    "2. Firstrade API 介接"
   ]
  },
  {
   "cell_type": "markdown",
   "metadata": {},
   "source": [
    "## Telegram 機器人"
   ]
  },
  {
   "cell_type": "code",
   "execution_count": 1,
   "metadata": {},
   "outputs": [],
   "source": [
    "import telegram\n",
    "from telegram import ReplyKeyboardMarkup\n",
    "from telegram.ext import (Updater, CommandHandler, MessageHandler, Filters,\n",
    "                          ConversationHandler)"
   ]
  },
  {
   "cell_type": "code",
   "execution_count": 2,
   "metadata": {},
   "outputs": [],
   "source": [
    "import logging\n",
    "logging.basicConfig(format='%(asctime)s - %(name)s - %(levelname)s - %(message)s',\n",
    "                     level=logging.INFO)"
   ]
  },
  {
   "cell_type": "code",
   "execution_count": 3,
   "metadata": {},
   "outputs": [],
   "source": [
    "CHOOSING, COMFIRM_STOCK, TYPING_CHOICE = range(3)\n",
    "\n",
    "reply_keyboard = [['輸入追蹤股票', '查詢技術線圖'],\n",
    "                  ['結束']]\n",
    "markup = ReplyKeyboardMarkup(reply_keyboard, one_time_keyboard=True)"
   ]
  },
  {
   "cell_type": "code",
   "execution_count": 4,
   "metadata": {},
   "outputs": [],
   "source": [
    "def start(update, context):\n",
    "    update.message.reply_text(chat_id=update.effective_chat.id, \n",
    "                             text='''\n",
    "                             歡迎使用股市貓頭鷹🦉，請選擇你想要執行的服務，我會盡全力協助你的！\n",
    "                             ''',\n",
    "                             reply_markup=markup)\n",
    "    print(update.effective_chat.id)\n",
    "    return CHOOSING"
   ]
  },
  {
   "cell_type": "code",
   "execution_count": 5,
   "metadata": {},
   "outputs": [],
   "source": [
    "def input_stock(update, context):\n",
    "    update.message.reply_text(chat_id=update.effective_chat.id, text='''\n",
    "    請輸入你要追蹤股票代碼：\n",
    "    （回上一頁請輸入：q）\n",
    "    ''')\n",
    "    return TYPING_CHOICE"
   ]
  },
  {
   "cell_type": "code",
   "execution_count": 1,
   "metadata": {},
   "outputs": [],
   "source": [
    "def catch_stock_info(stock_id):\n",
    "    import requests\n",
    "    exchanges = ['NASDAQ', 'NYSE']\n",
    "    apikey = 'x'\n",
    "    stock_list = []\n",
    "\n",
    "    for exchange in exchanges:\n",
    "        res = requests.get('https://financialmodelingprep.com/api/v3/search?query={query}&limit=10&exchange={exchange}&apikey={apikey}'\\\n",
    "                           .format(query = stock_id, exchange = exchange, apikey = apikey))\n",
    "        stock_list += res.json()\n",
    "    return stock_list"
   ]
  },
  {
   "cell_type": "code",
   "execution_count": 7,
   "metadata": {},
   "outputs": [],
   "source": [
    "def check_and_store(update, context):\n",
    "    text = update.message.text\n",
    "    stock_list = catch_stock_info(text)\n",
    "    \n",
    "    if not stock_list:\n",
    "        update.message.reply_text(chat_id=update.effective_chat.id, text='''\n",
    "        查詢不到你輸入的股票代碼哦，要不要檢查一下該股票代碼是否有在美股市場上市呢？再重新輸入一次吧！\n",
    "        （回上一頁請輸入：q）\n",
    "        ''')\n",
    "        return TYPING_CHOICE\n",
    "    \n",
    "    stocklist_keyboard = [['\\r'.join(['{}:{}'.format(k, v)]) for k, v in stock.items()] for stock in stock_list]\n",
    "    stocklist_markup = ReplyKeyboardMarkup(stocklist_keyboard, one_time_keyboard=True)\n",
    "    update.message.reply_text(chat_id=update.effective_chat.id,\n",
    "                              text='''\n",
    "                              你查詢的結果如下，請問你想加入的是第幾支標的呢？\n",
    "                              ''',\n",
    "                              reply_markup=stocklist_markup\n",
    "                             )\n",
    "    return COMFIRM_STOCK"
   ]
  },
  {
   "cell_type": "code",
   "execution_count": 8,
   "metadata": {},
   "outputs": [],
   "source": [
    "def stock_added(update, context):\n",
    "    text = update.message.text\n",
    "    context.user_data['stock_list'].append(text)\n",
    "    \n",
    "    update.message.reply_text(chat_id=update.effective_chat.id, \n",
    "                             text='''\n",
    "                             歡迎使用股市貓頭鷹🦉，請選擇你想要執行的服務，我會盡全力協助你的！\n",
    "                             ''',\n",
    "                             reply_markup=markup)\n",
    "    print(context.user_data['stock_list'])\n",
    "    return CHOOSING"
   ]
  },
  {
   "cell_type": "code",
   "execution_count": 9,
   "metadata": {},
   "outputs": [],
   "source": [
    "def done(update, context):\n",
    "    user_data = context.user_data\n",
    "    if 'stock_list' in user_data:\n",
    "        del user_data['stock_list']\n",
    "\n",
    "    update.message.reply_text(\"再見囉！希望有幫助到你🦉\")\n",
    "\n",
    "    user_data.clear()\n",
    "    return ConversationHandler.END"
   ]
  },
  {
   "cell_type": "code",
   "execution_count": 10,
   "metadata": {},
   "outputs": [],
   "source": [
    "def get_k_plot(update, context):\n",
    "    update.message.reply_text(\"還沒建置完哦，抱歉！請選擇其他功能吧！\",\n",
    "                             reply_markup=markup)\n",
    "    return CHOOSING"
   ]
  },
  {
   "cell_type": "code",
   "execution_count": 11,
   "metadata": {},
   "outputs": [],
   "source": [
    "def main():\n",
    "    # Create the Updater and pass it your bot's token.\n",
    "    # Make sure to set use_context=True to use the new context based callbacks\n",
    "    # Post version 12 this will no longer be necessary\n",
    "    updater = Updater(\"x\", use_context=True)\n",
    "\n",
    "    # Get the dispatcher to register handlers\n",
    "    dp = updater.dispatcher\n",
    "\n",
    "    # Add conversation handler with the states CHOOSING, TYPING_CHOICE and TYPING_REPLY\n",
    "    conv_handler = ConversationHandler(\n",
    "        entry_points=[CommandHandler('start', start)],\n",
    "\n",
    "        states={\n",
    "            CHOOSING: [MessageHandler(Filters.regex('^輸入追蹤股票$') & ~(Filters.command | Filters.regex('^結束$')),\n",
    "                                      input_stock),\n",
    "                       MessageHandler(Filters.regex('^查詢技術圖$'),\n",
    "                                      get_k_plot)\n",
    "                       ],\n",
    "\n",
    "            TYPING_CHOICE: [\n",
    "                MessageHandler(Filters.text & ~(Filters.command | Filters.regex('^q$')),\n",
    "                               check_and_store),\n",
    "                MessageHandler(Filters.regex('^q$') & ~(Filters.command),\n",
    "                               start)],\n",
    "\n",
    "            COMFIRM_STOCK: [\n",
    "                MessageHandler(Filters.text & ~(Filters.command | Filters.regex('^q$')),\n",
    "                               stock_added)],\n",
    "        },\n",
    "\n",
    "        fallbacks=[MessageHandler(Filters.regex('^結束$'), done)]\n",
    "    )\n",
    "\n",
    "    dp.add_handler(conv_handler)\n",
    "    \n",
    "    # Start the Bot\n",
    "    updater.start_polling()\n",
    "\n",
    "    # Run the bot until you press Ctrl-C or the process receives SIGINT,\n",
    "    # SIGTERM or SIGABRT. This should be used most of the time, since\n",
    "    # start_polling() is non-blocking and will stop the bot gracefully.\n",
    "    updater.idle()"
   ]
  },
  {
   "cell_type": "code",
   "execution_count": 12,
   "metadata": {},
   "outputs": [
    {
     "name": "stderr",
     "output_type": "stream",
     "text": [
      "2020-09-02 16:58:57,063 - telegram.ext.dispatcher - ERROR - No error handlers are registered, logging exception.\n",
      "Traceback (most recent call last):\n",
      "  File \"D:\\ProgramData\\Anaconda3\\lib\\site-packages\\telegram\\ext\\dispatcher.py\", line 340, in process_update\n",
      "    handler.handle_update(update, self, check, context)\n",
      "  File \"D:\\ProgramData\\Anaconda3\\lib\\site-packages\\telegram\\ext\\conversationhandler.py\", line 465, in handle_update\n",
      "    new_state = handler.handle_update(update, dispatcher, check_result, context)\n",
      "  File \"D:\\ProgramData\\Anaconda3\\lib\\site-packages\\telegram\\ext\\handler.py\", line 119, in handle_update\n",
      "    return self.callback(update, context)\n",
      "  File \"<ipython-input-4-6337f1548b81>\", line 6, in start\n",
      "    reply_markup=markup)\n",
      "  File \"D:\\ProgramData\\Anaconda3\\lib\\site-packages\\telegram\\message.py\", line 515, in reply_text\n",
      "    return self.bot.send_message(self.chat_id, *args, **kwargs)\n",
      "TypeError: send_message() got multiple values for argument 'chat_id'\n",
      "2020-09-02 17:16:10,237 - telegram.ext.updater - INFO - Received signal 2 (SIGINT), stopping...\n"
     ]
    }
   ],
   "source": [
    "if __name__ == '__main__':\n",
    "    main()"
   ]
  },
  {
   "cell_type": "code",
   "execution_count": 67,
   "metadata": {},
   "outputs": [],
   "source": [
    "updater.stop()"
   ]
  },
  {
   "cell_type": "code",
   "execution_count": null,
   "metadata": {},
   "outputs": [],
   "source": []
  }
 ],
 "metadata": {
  "kernelspec": {
   "display_name": "Python 3",
   "language": "python",
   "name": "python3"
  },
  "language_info": {
   "codemirror_mode": {
    "name": "ipython",
    "version": 3
   },
   "file_extension": ".py",
   "mimetype": "text/x-python",
   "name": "python",
   "nbconvert_exporter": "python",
   "pygments_lexer": "ipython3",
   "version": "3.7.6"
  }
 },
 "nbformat": 4,
 "nbformat_minor": 4
}

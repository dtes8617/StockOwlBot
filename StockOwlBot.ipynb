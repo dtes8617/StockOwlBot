{
 "cells": [
  {
   "cell_type": "markdown",
   "metadata": {},
   "source": [
    "# Stock Owl\n",
    "\n",
    "在台灣投資美股有個最惱人的地方，就是美股開盤都在半夜。如果要時時守著盤勢，對一般人來說還是太吃不消了。為了能夠協助隨時追蹤並且在發生緊急事件時能夠告警，我們列出需要完成的部分：\n",
    "1. Telegram 機器人\n",
    "2. Firstrade API 介接"
   ]
  },
  {
   "cell_type": "markdown",
   "metadata": {},
   "source": [
    "## Telegram 機器人"
   ]
  },
  {
   "cell_type": "code",
   "execution_count": 34,
   "metadata": {},
   "outputs": [],
   "source": [
    "import telegram\n",
    "from telegram import ReplyKeyboardMarkup\n",
    "from telegram.ext import (Updater, CommandHandler, MessageHandler, Filters,\n",
    "                          ConversationHandler)\n",
    "from config import financialModelingPrepAPI, TelegramRobotToken"
   ]
  },
  {
   "cell_type": "code",
   "execution_count": 35,
   "metadata": {},
   "outputs": [],
   "source": [
    "import logging\n",
    "logging.basicConfig(format='%(asctime)s - %(name)s - %(levelname)s - %(message)s',\n",
    "                     level=logging.INFO)"
   ]
  },
  {
   "cell_type": "code",
   "execution_count": 70,
   "metadata": {},
   "outputs": [],
   "source": [
    "CHOOSING, COMFIRM_STOCK, TYPING_CHOICE = range(3)\n",
    "\n",
    "reply_keyboard = [['輸入追蹤股票', '追蹤標的清單'],\n",
    "                  ['查詢技術線圖'],\n",
    "                  ['結束']]\n",
    "markup = ReplyKeyboardMarkup(reply_keyboard, one_time_keyboard=True)"
   ]
  },
  {
   "cell_type": "code",
   "execution_count": 37,
   "metadata": {},
   "outputs": [],
   "source": [
    "def start(update, context):\n",
    "    print(update.effective_chat.id)\n",
    "    context.bot.send_message(chat_id=update.effective_chat.id, \n",
    "                             text='''\n",
    "                             歡迎使用股市貓頭鷹🦉，請選擇你想要執行的服務，我會盡全力協助你的！\n",
    "                             ''',\n",
    "                             reply_markup=markup)\n",
    "    return CHOOSING"
   ]
  },
  {
   "cell_type": "code",
   "execution_count": 38,
   "metadata": {},
   "outputs": [],
   "source": [
    "def input_stock(update, context):\n",
    "    context.bot.send_message(chat_id=update.effective_chat.id, text='''\n",
    "    請輸入你要追蹤股票代碼：\n",
    "    （回上一頁請輸入：q）\n",
    "    ''')\n",
    "    return TYPING_CHOICE"
   ]
  },
  {
   "cell_type": "code",
   "execution_count": 39,
   "metadata": {},
   "outputs": [],
   "source": [
    "def catch_stock_info(stock_id):\n",
    "    import requests\n",
    "    exchanges = ['NASDAQ', 'NYSE']\n",
    "    stock_list = []\n",
    "\n",
    "    for exchange in exchanges:\n",
    "        res = requests.get('https://financialmodelingprep.com/api/v3/search?query={query}&limit=10&exchange={exchange}&apikey={apikey}'\\\n",
    "                           .format(query = stock_id, exchange = exchange, apikey = financialModelingPrepAPI))\n",
    "        stock_list += res.json()\n",
    "    return stock_list"
   ]
  },
  {
   "cell_type": "code",
   "execution_count": 130,
   "metadata": {},
   "outputs": [],
   "source": [
    "def check_and_store(update, context):\n",
    "    text = update.message.text\n",
    "    stock_list = catch_stock_info(text)\n",
    "    \n",
    "    if not stock_list:\n",
    "        context.bot.send_message(chat_id=update.effective_chat.id, text='''\n",
    "        查詢不到你輸入的股票代碼: {} 哦，要不要檢查一下該股票代碼是否有在美股市場上市呢？再重新輸入一次吧！（回上一頁請輸入：q）\n",
    "        '''.format(text))\n",
    "        return TYPING_CHOICE\n",
    "    print(stock_list)\n",
    "    stocklist_keyboard = [[stock['symbol']] for stock in stock_list]\n",
    "    context.user_data['temp_stock_list'] = stock_list\n",
    "    # [['\\r'.join(['{}:{}'.format(k, v)]) for k, v in stock.items()] for stock in stock_list]\n",
    "    stocklist_markup = ReplyKeyboardMarkup(stocklist_keyboard, one_time_keyboard=True)\n",
    "    context.bot.send_message(chat_id=update.effective_chat.id,\n",
    "                              text='''\n",
    "                              你查詢的結果如下，請問你想加入的是第幾支標的呢？\\r\\n（回上一頁請輸入：q）\n",
    "                              ''',\n",
    "                              reply_markup=stocklist_markup\n",
    "                             )\n",
    "    return COMFIRM_STOCK"
   ]
  },
  {
   "cell_type": "code",
   "execution_count": 131,
   "metadata": {},
   "outputs": [],
   "source": [
    "def stock_added(update, context):\n",
    "    text = update.message.text\n",
    "    print(context.user_data)\n",
    "    if text not in context.user_data['temp_stock_list']:\n",
    "        stocklist_keyboard = [[stock['symbol']] for stock in context.user_data['temp_stock_list']]\n",
    "        context.bot.send_message(chat_id=update.effective_chat.id, \n",
    "                             text='''\n",
    "                             你輸入的標的不在清單中哦！請重新輸入\\r\\n（回上一頁請輸入：q）\n",
    "                             '''.format(text),\n",
    "                             reply_markup=stocklist_keyboard)\n",
    "        return COMFIRM_STOCK\n",
    "        \n",
    "    if 'stock_list' in context.user_data:\n",
    "        context.user_data['stock_list'].append(text)\n",
    "    else:\n",
    "        context.user_data['stock_list'] = [text]\n",
    "    \n",
    "    context.bot.send_message(chat_id=update.effective_chat.id, \n",
    "                             text='''\n",
    "                             已經成功加入 {} 到追蹤清單囉！\\r\\n請選擇你想查詢的服務🦉\n",
    "                             '''.format(text),\n",
    "                             reply_markup=markup)\n",
    "    print(context.user_data['stock_list'])\n",
    "    return CHOOSING"
   ]
  },
  {
   "cell_type": "code",
   "execution_count": 132,
   "metadata": {},
   "outputs": [],
   "source": [
    "def done(update, context):\n",
    "    user_data = context.user_data\n",
    "    if 'stock_list' in user_data:\n",
    "        del user_data['stock_list']\n",
    "\n",
    "    context.bot.send_message(chat_id=update.effective_chat.id, \n",
    "                             text = \"再見囉！希望有幫助到你！還需要我的話，請輸入 /start 我就會出現囉🦉\")\n",
    "\n",
    "    user_data.clear()\n",
    "    return ConversationHandler.END"
   ]
  },
  {
   "cell_type": "code",
   "execution_count": 133,
   "metadata": {},
   "outputs": [],
   "source": [
    "def get_k_plot(update, context):\n",
    "    context.bot.send_message(chat_id=update.effective_chat.id, \n",
    "                             text = \"還沒建置完哦，抱歉！請選擇其他功能吧！\",\n",
    "                             reply_markup=markup)\n",
    "    return CHOOSING"
   ]
  },
  {
   "cell_type": "code",
   "execution_count": 134,
   "metadata": {},
   "outputs": [],
   "source": [
    "def check_stock_list(update, context):\n",
    "    user_data = context.user_data\n",
    "    if 'stock_list' not in user_data:\n",
    "        context.bot.send_message(chat_id=update.effective_chat.id, \n",
    "                                 text='''\n",
    "                                 你還沒有加入追蹤的股票哦！請點選『輸入追蹤股票』來追蹤你感興趣的標的吧！\n",
    "                                 '''.format(text),\n",
    "                                 reply_markup=markup)\n",
    "        return CHOOSING\n",
    "    \n",
    "    stocklist_keyboard = user_data['stock_list']\n",
    "    context.bot.send_message(chat_id=update.effective_chat.id, \n",
    "                                 text='''\n",
    "                                 你目前追蹤的標的如下：\\r\\n{}\n",
    "                                 '''.format('\\r\\n'.join(stocklist_keyboard)),\n",
    "                                 reply_markup=markup)\n",
    "    return CHOOSING"
   ]
  },
  {
   "cell_type": "code",
   "execution_count": 135,
   "metadata": {},
   "outputs": [],
   "source": [
    "def wrong_command(update, context):\n",
    "    context.bot.send_message(chat_id=update.effective_chat.id, \n",
    "                             text='''\n",
    "                             不好意思，我不懂你的意思。你可以點選對話框右手邊的選單來與我互動哦！\n",
    "                             ''',\n",
    "                             reply_markup=markup)\n",
    "    return CHOOSING"
   ]
  },
  {
   "cell_type": "code",
   "execution_count": 136,
   "metadata": {},
   "outputs": [],
   "source": [
    "def main():\n",
    "    # Create the Updater and pass it your bot's token.\n",
    "    # Make sure to set use_context=True to use the new context based callbacks\n",
    "    # Post version 12 this will no longer be necessary\n",
    "    updater = Updater(TelegramRobotToken, use_context=True)\n",
    "\n",
    "    # Get the dispatcher to register handlers\n",
    "    dp = updater.dispatcher\n",
    "\n",
    "    # Add conversation handler with the states CHOOSING, TYPING_CHOICE and TYPING_REPLY\n",
    "    conv_handler = ConversationHandler(\n",
    "        entry_points=[CommandHandler('start', start)],\n",
    "\n",
    "        states={\n",
    "            CHOOSING: [MessageHandler(Filters.regex('^輸入追蹤股票$') & ~(Filters.command | Filters.regex('^結束$')),\n",
    "                                      input_stock),\n",
    "                       MessageHandler(Filters.regex('^查詢技術線圖$') & ~(Filters.command | Filters.regex('^結束$')),\n",
    "                                      get_k_plot),\n",
    "                       MessageHandler(Filters.regex('^追蹤標的清單$') & ~(Filters.command | Filters.regex('^結束$')),\n",
    "                                      check_stock_list),\n",
    "                       MessageHandler(~(Filters.command | Filters.regex('^結束$')),\n",
    "                                      wrong_command)\n",
    "                       ],\n",
    "\n",
    "            TYPING_CHOICE: [\n",
    "                MessageHandler(Filters.text & ~(Filters.command | Filters.regex('^q$')),\n",
    "                               check_and_store),\n",
    "                MessageHandler(Filters.regex('^q$') & ~(Filters.command),\n",
    "                               start)],\n",
    "\n",
    "            COMFIRM_STOCK: [\n",
    "                MessageHandler(Filters.text & ~(Filters.command | Filters.regex('^q$')),\n",
    "                               stock_added),\n",
    "                MessageHandler(Filters.regex('^q$') & ~(Filters.command),\n",
    "                               start)],\n",
    "        },\n",
    "\n",
    "        fallbacks=[MessageHandler(Filters.regex('^結束$'), done)]\n",
    "    )\n",
    "\n",
    "    dp.add_handler(conv_handler)\n",
    "    \n",
    "    # Start the Bot\n",
    "    updater.start_polling()\n",
    "\n",
    "    # Run the bot until you press Ctrl-C or the process receives SIGINT,\n",
    "    # SIGTERM or SIGABRT. This should be used most of the time, since\n",
    "    # start_polling() is non-blocking and will stop the bot gracefully.\n",
    "    updater.idle()"
   ]
  },
  {
   "cell_type": "code",
   "execution_count": 137,
   "metadata": {},
   "outputs": [
    {
     "name": "stdout",
     "output_type": "stream",
     "text": [
      "1257751303\n",
      "[{'symbol': 'JD', 'name': 'JD.com, Inc.', 'currency': 'USD', 'stockExchange': 'NasdaqGS', 'exchangeShortName': 'NASDAQ'}, {'symbol': 'CJJD', 'name': 'China Jo-Jo Drugstores, Inc.', 'currency': 'USD', 'stockExchange': 'NasdaqCM', 'exchangeShortName': 'NASDAQ'}, {'symbol': 'JDD', 'name': 'Nuveen Diversified Dividend and Income Fund', 'currency': 'USD', 'stockExchange': 'NYSE', 'exchangeShortName': 'NYSE'}, {'symbol': 'DJD', 'name': 'Invesco Dow Jones Industrial Average Dividend ETF', 'currency': 'USD', 'stockExchange': 'NYSEArca', 'exchangeShortName': 'NYSE'}, {'symbol': 'JDIV', 'name': 'JPMorgan U.S. Dividend ETF', 'currency': 'USD', 'stockExchange': 'NYSEArca', 'exchangeShortName': 'NYSE'}, {'symbol': 'JDST', 'name': 'Direxion Daily Junior Gold Miners Index Bear 2X Shares', 'currency': 'USD', 'stockExchange': 'NYSEArca', 'exchangeShortName': 'NYSE'}, {'symbol': 'SOJD', 'name': 'Southern Company (The) Series 2', 'currency': 'USD', 'stockExchange': 'NYSE', 'exchangeShortName': 'NYSE'}, {'symbol': 'WWJD', 'name': 'Inspire International ESG ETF', 'currency': 'USD', 'stockExchange': 'NYSEArca', 'exchangeShortName': 'NYSE'}]\n"
     ]
    },
    {
     "name": "stderr",
     "output_type": "stream",
     "text": [
      "2020-09-09 00:33:15,567 - telegram.ext.updater - INFO - Received signal 2 (SIGINT), stopping...\n"
     ]
    }
   ],
   "source": [
    "if __name__ == '__main__':\n",
    "    main()"
   ]
  },
  {
   "cell_type": "code",
   "execution_count": 67,
   "metadata": {},
   "outputs": [],
   "source": [
    "updater.stop()"
   ]
  },
  {
   "cell_type": "code",
   "execution_count": null,
   "metadata": {},
   "outputs": [],
   "source": []
  }
 ],
 "metadata": {
  "kernelspec": {
   "display_name": "Python 3",
   "language": "python",
   "name": "python3"
  },
  "language_info": {
   "codemirror_mode": {
    "name": "ipython",
    "version": 3
   },
   "file_extension": ".py",
   "mimetype": "text/x-python",
   "name": "python",
   "nbconvert_exporter": "python",
   "pygments_lexer": "ipython3",
   "version": "3.7.6"
  }
 },
 "nbformat": 4,
 "nbformat_minor": 4
}
